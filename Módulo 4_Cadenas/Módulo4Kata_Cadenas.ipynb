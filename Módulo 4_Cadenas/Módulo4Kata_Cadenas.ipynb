{
 "cells": [
  {
   "cell_type": "markdown",
   "metadata": {},
   "source": [
    "<h3>Ejercicio 1 - Transformar cadenas </h3>"
   ]
  },
  {
   "cell_type": "markdown",
   "metadata": {},
   "source": [
    "text = \"\"\"Interesting facts about the Moon. The Moon is Earth's only satellite. There are several interesting facts about the Moon and how it affects life here on Earth. \n",
    "On average, the Moon moves 4cm away from the Earth every year. This yearly drift is not significant enough to cause immediate effects on Earth. The highest daylight temperature of the Moon is 127 C.\"\"\""
   ]
  },
  {
   "cell_type": "code",
   "execution_count": null,
   "metadata": {},
   "outputs": [],
   "source": [
    "#Dividir el texto para trabajar con él\n",
    "\n",
    "text = \"\"\"Interesting facts about the Moon. The Moon is Earth's only satellite. There are several interesting facts about the Moon and how it affects life here on Earth. \n",
    "On average, the Moon moves 4cm away from the Earth every year. This yearly drift is not significant enough to cause immediate effects on Earth. The highest daylight temperature of the Moon is 127 C.\"\"\"\n",
    "\n",
    "divididotext = text.split('.')\n",
    "divididotext"
   ]
  },
  {
   "cell_type": "code",
   "execution_count": null,
   "metadata": {},
   "outputs": [],
   "source": [
    "# Define las palabras pista: average, temperature y distance suenan bien\n",
    "palabras_pista = ['average', 'temperature', 'distance']"
   ]
  },
  {
   "cell_type": "code",
   "execution_count": null,
   "metadata": {},
   "outputs": [],
   "source": [
    "# Ciclo for para recorrer la cadena\n",
    "text = \"\"\"Interesting facts about the Moon. The Moon is Earth's only satellite. There are several interesting facts about the Moon and how it affects life here on Earth. \n",
    "On average, the Moon moves 4cm away from the Earth every year. This yearly drift is not significant enough to cause immediate effects on Earth. The highest daylight temperature of the Moon is 127 C.\"\"\"\n",
    "divididotext = text.split('.')\n",
    "palabras_pista = ['average', 'temperature', 'distance']\n",
    "\n",
    "for oracion in divididotext:\n",
    "    for palabra in palabras_pista:\n",
    "        if palabra in oracion:\n",
    "            print(oracion)"
   ]
  },
  {
   "cell_type": "code",
   "execution_count": null,
   "metadata": {},
   "outputs": [],
   "source": [
    "# Ciclo para sustituir C a Celsius\n",
    "text = \"\"\"Interesting facts about the Moon. The Moon is Earth's only satellite. There are several interesting facts about the Moon and how it affects life here on Earth. \n",
    "On average, the Moon moves 4cm away from the Earth every year. This yearly drift is not significant enough to cause immediate effects on Earth. The highest daylight temperature of the Moon is 127 C.\"\"\"\n",
    "divididotext = text.split('.')\n",
    "palabras_pista = ['average', 'temperature', 'distance']\n",
    "\n",
    "for oracion in divididotext:\n",
    "    for palabra in palabras_pista:\n",
    "        if palabra in oracion:\n",
    "            print(oracion.replace('C', 'Celsius'))"
   ]
  },
  {
   "cell_type": "markdown",
   "metadata": {},
   "source": [
    "<h3> Ejercicio 2 - Formateando cadenas </h3>"
   ]
  },
  {
   "cell_type": "code",
   "execution_count": null,
   "metadata": {},
   "outputs": [],
   "source": [
    "# Datos con los que vas a trabajar\n",
    "name = \"Moon\"\n",
    "gravity = 0.00162 # in kms\n",
    "planet = \"Earth\"\n",
    "\n",
    "# Creamos el título\n",
    "titulo = f'La gravedad entre la {planet} y la {name}'\n",
    "# Creamos la plantilla\"\n",
    "gravedad_metros = gravity * 1000\n",
    "cadena_multi = f\"\"\"{titulo}\n",
    "-----------------------------------------------\n",
    "Planeta: {planet} \n",
    "Gravedad en {name}: {gravedad_metros} m/s2 \n",
    "\"\"\"\n",
    "# Unión de ambas cadenas\n",
    "template = f\"\"\"{titulo.title()} \n",
    "{cadena_multi} \n",
    "\"\"\" \n",
    "print(cadena_multi)\n",
    "\n",
    "# Nuevos datos muestra\n",
    "planet2 = 'Marte '\n",
    "gravity2  = 0.00143\n",
    "name2 = 'Ganímedes'\n",
    "\n",
    "# Nuevaplantilla\n",
    "template2 = \"\"\"\n",
    "Datos de: {name2}\n",
    "-----------------------------------------------\n",
    "Planeta: {planet2}\n",
    "Gravedad en {name2}: {gravity2} m/s2\n",
    "\"\"\"\n",
    "\n",
    "print(template2.format(name2=name2, planet2=planet2, gravity2=gravity2))"
   ]
  },
  {
   "cell_type": "markdown",
   "metadata": {},
   "source": [
    "Código presentado por: Francisco Sánchez Vásquez <br>\n",
    "Github: [Zuturito](https://github.com/zuturito)"
   ]
  }
 ],
 "metadata": {
  "interpreter": {
   "hash": "895d8581c9ec75300b07fc836c132c8c1861e8a5ae62015e3db925413464a955"
  },
  "kernelspec": {
   "display_name": "Python 3.10.2 64-bit",
   "language": "python",
   "name": "python3"
  },
  "language_info": {
   "codemirror_mode": {
    "name": "ipython",
    "version": 3
   },
   "file_extension": ".py",
   "mimetype": "text/x-python",
   "name": "python",
   "nbconvert_exporter": "python",
   "pygments_lexer": "ipython3",
   "version": "3.10.2"
  },
  "orig_nbformat": 4
 },
 "nbformat": 4,
 "nbformat_minor": 2
}
