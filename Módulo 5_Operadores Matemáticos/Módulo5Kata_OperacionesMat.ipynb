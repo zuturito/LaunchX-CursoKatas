{
 "cells": [
  {
   "cell_type": "markdown",
   "metadata": {},
   "source": [
    "<h3>Ejercicio 1 - Utiizar operadores matemáticos </h3>"
   ]
  },
  {
   "cell_type": "code",
   "execution_count": null,
   "metadata": {},
   "outputs": [],
   "source": [
    "# Crear variables para almacenar las dos distancias\n",
    "# ¡Asegúrate de quitar las comas!\n",
    "\n",
    "tierra = 149597870 #kms\n",
    "jupiter = 778547200 #kms\n",
    "\n",
    "#realizar la operación\n",
    "# Calcular la distancia entre planetas\n",
    "distancia = abs(tierra - jupiter)\n",
    "distancia_milla = round(distancia * 0.621)\n",
    "print(distancia)\n",
    "print(distancia_milla)"
   ]
  },
  {
   "cell_type": "markdown",
   "metadata": {},
   "source": [
    "<h3>Ejercicio 2 - Convertir cadenas en números y valores absolutos </h3>"
   ]
  },
  {
   "cell_type": "code",
   "execution_count": null,
   "metadata": {},
   "outputs": [],
   "source": [
    "# Almacenar las entradas del usuario\n",
    "# Convierte las cadenas de ambos planetas a números enteros\n",
    "\n",
    "valor1 = int(input(\"¿distancia del primer planeta en kilómetros?\"))\n",
    "valor2 = int(input(\"¿distancia del segundo planeta en kilómetros?\"))\n",
    "\n",
    "print(\"Distancia No1= \"+str(valor1))\n",
    "print(\"Distancia No2= \"+str(valor2))\n",
    "\n",
    "# Realizar el cálculo y determinar el valor absoluto\n",
    "distancia_km = valor2 - valor1\n",
    "#print(distancia_km)\n",
    "\n",
    "# Convertir de KM a Millas\n",
    "distancia_mi = distancia_km * 0.621\n",
    "print(\"La distancia entre esos dos planetas en millas es de: \" + str(abs(distancia_mi)))"
   ]
  },
  {
   "cell_type": "markdown",
   "metadata": {},
   "source": [
    "Código presentado por: Francisco Sánchez Vásquez <br>\n",
    "Github: [Zuturito](https://github.com/zuturito)"
   ]
  }
 ],
 "metadata": {
  "interpreter": {
   "hash": "895d8581c9ec75300b07fc836c132c8c1861e8a5ae62015e3db925413464a955"
  },
  "kernelspec": {
   "display_name": "Python 3.10.2 64-bit",
   "language": "python",
   "name": "python3"
  },
  "language_info": {
   "codemirror_mode": {
    "name": "ipython",
    "version": 3
   },
   "file_extension": ".py",
   "mimetype": "text/x-python",
   "name": "python",
   "nbconvert_exporter": "python",
   "pygments_lexer": "ipython3",
   "version": "3.10.2"
  },
  "orig_nbformat": 4
 },
 "nbformat": 4,
 "nbformat_minor": 2
}
