{
 "cells": [
  {
   "cell_type": "markdown",
   "metadata": {},
   "source": [
    "<h3>Ejercicio 1 - Crear y usar listas de Python </h3>"
   ]
  },
  {
   "cell_type": "code",
   "execution_count": null,
   "metadata": {},
   "outputs": [],
   "source": [
    "# Creamos la lista planets y la mostramos\n",
    "planets = ['Mercurio', 'Venus', 'Tierra', 'Marte', 'Jupiter', 'Saturno', 'Urano', 'Neptuno']\n",
    "print('Los planetas son ' +str(len(planets))+' y son: '+str(planets))\n",
    "# Agregamos a plutón y mostramos el último elemento\n",
    "planets.append('Plutón')\n",
    "print('Se acaba de añadir el planeta: ')\n",
    "print(planets[-1])"
   ]
  },
  {
   "cell_type": "markdown",
   "metadata": {},
   "source": [
    "<h3>Ejercicio 2 - Trabajando con listas </h3>"
   ]
  },
  {
   "cell_type": "code",
   "execution_count": null,
   "metadata": {},
   "outputs": [],
   "source": [
    "# Solicitamos el nombre de un planeta\n",
    "planets = ['Mercurio', 'Venus', 'Tierra', 'Marte', 'Jupiter', 'Saturno', 'Urano', 'Neptuno']\n",
    "solicitud = input('¿Qué planeta quieres de la lista? (comienza con mayúscula, por favor)')\n",
    "# Busca el planeta en la lista\n",
    "indice_ref=planets.index(solicitud)\n",
    "# Muestra los planetas más cercanos al sol\n",
    "planetas_cercano_sol = planets[0:indice_ref]\n",
    "print('Los planetas más cercanos al Sol respecto al ingresado son: '+str(planetas_cercano_sol))\n",
    "# Muestra los planetas más lejanos al sol\n",
    "planetas_lejos_sol = planets[indice_ref+1:]\n",
    "print('Los planetas más alejados al Sol respecto al ingresado son: '+str(planetas_lejos_sol))"
   ]
  },
  {
   "cell_type": "markdown",
   "metadata": {},
   "source": [
    "Código presentado por: Francisco Sánchez Vásquez <br>\n",
    "Github: [Zuturito](https://github.com/zuturito)"
   ]
  }
 ],
 "metadata": {
  "interpreter": {
   "hash": "895d8581c9ec75300b07fc836c132c8c1861e8a5ae62015e3db925413464a955"
  },
  "kernelspec": {
   "display_name": "Python 3.10.2 64-bit",
   "language": "python",
   "name": "python3"
  },
  "language_info": {
   "codemirror_mode": {
    "name": "ipython",
    "version": 3
   },
   "file_extension": ".py",
   "mimetype": "text/x-python",
   "name": "python",
   "nbconvert_exporter": "python",
   "pygments_lexer": "ipython3",
   "version": "3.10.2"
  },
  "orig_nbformat": 4
 },
 "nbformat": 4,
 "nbformat_minor": 2
}
