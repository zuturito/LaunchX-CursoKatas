{
 "cells": [
  {
   "cell_type": "markdown",
   "metadata": {},
   "source": [
    "<h3>Ejercicios Módulo 10</h3>"
   ]
  },
  {
   "cell_type": "code",
   "execution_count": null,
   "metadata": {},
   "outputs": [],
   "source": [
    "#visualizando el err2 [archivo no existente]\n",
    "def main_init():\n",
    "    open(\"/path/to/mars.jpg\")\n",
    "\n",
    "#controlando las excepciones\n",
    "def main_excepciones():\n",
    "    try:\n",
    "        configuration = open('archivo_a_abrir.txt')\n",
    "    except FileNotFoundError:\n",
    "        print(\"¡Error! No se encuentra el archivo solicitado, revisa el directorio de origen\")\n",
    "\n",
    "#observando excepcion de directorio err21 [archivo solicitado es un directorio]\n",
    "def main_excepciones_dir():\n",
    "    try:\n",
    "        configuration = open('/tmp/archivo_a_abrir.txt')\n",
    "    except FileNotFoundError:\n",
    "        print(\"¡Error! No se encuentra el archivo solicitado, revisa el directorio de origen\")\n",
    "\n",
    "#controlando las excepciones no importando el tipo de archivo\n",
    "def main_todo_except():\n",
    "    try:\n",
    "        configuration = open('config.txt')\n",
    "    except Exception:\n",
    "        print(\"¡Error! No se encuentra el archivo solicitado, revisa el directorio de origen\")\n",
    "\n",
    "#agregando excepciones dependiendo el archivo\n",
    "def main_con_excepts():\n",
    "    try:\n",
    "        configuration = open('config.txt')\n",
    "    except FileNotFoundError:\n",
    "        print(\"¡Error! No se encuentra el archivo solicitado, revisa el directorio de origen\")\n",
    "    except IsADirectoryError:\n",
    "        print(\"Se ha encontrado el archivo config.txt pero es un directorio, no es posible leerlo\")\n",
    "\n",
    "#agregando agrupaciones a las excepciones\n",
    "def main_agrupados():\n",
    "    try:\n",
    "        configuration = open('config.txt')\n",
    "    except FileNotFoundError: #2\n",
    "        print(\"¡Error! No se encuentra el archivo solicitado, revisa el directorio de origen\")\n",
    "    except IsADirectoryError: #13\n",
    "        print(\"Se ha encontrado el archivo config.txt pero es un directorio, no es posible leerlo\")\n",
    "    except (BlockingIOError, TimeoutError):\n",
    "        print(\"Se ha sobrecargado el sistema de carga, por favor, inténtelo más tarde\")\n",
    "\n",
    "#agregando agrupaciones a las excepciones\n",
    "def main():\n",
    "    try:\n",
    "        configuration = open('config.txt')\n",
    "    except OSError as err:\n",
    "        if err.errno == 2:\n",
    "            print(\"¡Error! No se encuentra el archivo solicitado, revisa el directorio de origen\")\n",
    "        elif err.errno == 13:\n",
    "            print(\"Se ha encontrado el archivo config.txt pero es un directorio, no es posible leerlo\")\n",
    "\n",
    "if __name__ == '__main__':\n",
    "    #main_init()\n",
    "    #main_excepciones()\n",
    "    #main_excepciones_dir()\n",
    "    #main_todo_except()\n",
    "    #main_con_excepts()\n",
    "    #main_agrupados()\n",
    "    main()"
   ]
  },
  {
   "cell_type": "markdown",
   "metadata": {},
   "source": [
    "<h3>Ejercicios - Generación de excepciones</h3>"
   ]
  },
  {
   "cell_type": "code",
   "execution_count": null,
   "metadata": {},
   "outputs": [],
   "source": [
    "def water_left(astronauts, water_left, days_left):\n",
    "    daily_usage = astronauts * 11\n",
    "    total_usage = daily_usage * days_left\n",
    "    total_water_left = water_left - total_usage\n",
    "    return f\"Total water left after {days_left} days is: {total_water_left} liters\"\n",
    "\n",
    "print(water_left(5,100,2))"
   ]
  },
  {
   "cell_type": "code",
   "execution_count": null,
   "metadata": {},
   "outputs": [],
   "source": [
    "def water_left(astronauts, water_left, days_left):\n",
    "    daily_usage = astronauts * 11\n",
    "    total_usage = daily_usage * days_left\n",
    "    total_water_left = water_left - total_usage\n",
    "    if total_water_left < 0:\n",
    "        raise RuntimeError(f\"There is not enough water for {astronauts} astronauts after {days_left} days!\")\n",
    "    return f\"Total water left after {days_left} days is: {total_water_left} liters\"\n",
    "\n",
    "def main():\n",
    "    try:\n",
    "        water_left(5,100,2)\n",
    "    except RuntimeError as err:\n",
    "        print(err)\n",
    "\n",
    "if __name__ == '__main__':\n",
    "    main()"
   ]
  },
  {
   "cell_type": "code",
   "execution_count": null,
   "metadata": {},
   "outputs": [],
   "source": [
    "def water_left(astronauts, water_left, days_left):\n",
    "    for argument in [astronauts, water_left, days_left]:\n",
    "        try:\n",
    "            # If argument is an int, the following operation will work\n",
    "            argument / 10\n",
    "        except TypeError:\n",
    "            # TypError will be raised only if it isn't the right type \n",
    "            # Raise the same exception but with a better error message\n",
    "            raise TypeError(f\"All arguments must be of type int, but received: '{argument}'\")\n",
    "    daily_usage = astronauts * 11\n",
    "    total_usage = daily_usage * days_left\n",
    "    total_water_left = water_left - total_usage\n",
    "    if total_water_left < 0:\n",
    "        raise RuntimeError(f\"There is not enough water for {astronauts} astronauts after {days_left} days!\")\n",
    "    return f\"Total water left after {days_left} days is: {total_water_left} liters\"\n",
    "\n",
    "water_left(\"3\",\"200\",None)"
   ]
  },
  {
   "cell_type": "markdown",
   "metadata": {},
   "source": [
    "Código presentado por: Francisco Sánchez Vásquez <br>\n",
    "Github: [Zuturito](https://github.com/zuturito)"
   ]
  }
 ],
 "metadata": {
  "interpreter": {
   "hash": "895d8581c9ec75300b07fc836c132c8c1861e8a5ae62015e3db925413464a955"
  },
  "kernelspec": {
   "display_name": "Python 3.10.2 64-bit",
   "language": "python",
   "name": "python3"
  },
  "language_info": {
   "codemirror_mode": {
    "name": "ipython",
    "version": 3
   },
   "file_extension": ".py",
   "mimetype": "text/x-python",
   "name": "python",
   "nbconvert_exporter": "python",
   "pygments_lexer": "ipython3",
   "version": "3.10.2"
  },
  "orig_nbformat": 4
 },
 "nbformat": 4,
 "nbformat_minor": 2
}
