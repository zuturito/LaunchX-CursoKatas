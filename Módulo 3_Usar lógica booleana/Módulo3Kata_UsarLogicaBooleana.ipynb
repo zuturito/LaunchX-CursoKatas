{
 "cells": [
  {
   "cell_type": "markdown",
   "metadata": {},
   "source": [
    "<h3> 1.-Problema del asteroide </h3>"
   ]
  },
  {
   "cell_type": "code",
   "execution_count": null,
   "metadata": {},
   "outputs": [],
   "source": [
    "# Añadir el código necesario para crear una variable que guarde la velocidad del asteroide.\n",
    "# Escribe una expresión de prueba para calcular si necesita una advertencia.\n",
    "# Agregue las instrucciones que se ejecutarán si la expresión de prueba es true o false.\n",
    "# Cualquier velocidad superior a 25kms lanza una advertencia\n",
    "# Variable para un asteroide que viaja a 49 km/s\n",
    "\n",
    "asteroide_velocidad = 49\n",
    "if (asteroide_velocidad > 20):\n",
    "    print(\"¡Peligro! Se ha detectado un asteroide viajando a gran velocidad hacia la Tierra\")\n",
    "else:\n",
    "    print(\"No existe peligro alguno de encontrar un asteroide en estos momentos\")"
   ]
  },
  {
   "cell_type": "markdown",
   "metadata": {},
   "source": [
    "<h3> 2.-Problema del asteroide - remastered </h3>"
   ]
  },
  {
   "cell_type": "code",
   "execution_count": null,
   "metadata": {},
   "outputs": [],
   "source": [
    "# Agrega el código para crear una variable para un asteroide que viaja a 19 km/s\n",
    "# Escribe varias expresiones de prueba para determinar si puedes ver el rayo de luz desde la tierra\n",
    "# Agrega las instrucciones que se ejecutarán si las expresiones de prueba son True o False\n",
    "\n",
    "asteroide_velocidad = 45\n",
    "if (asteroide_velocidad > 20):\n",
    "    print(\"¡Peligro! Se ha detectado un asteroide viajando a gran velocidad hacia la Tierra\")\n",
    "elif (asteroide_velocidad == 20):\n",
    "    print(\"¡Peligro! El asteroide entra en el límite de velocidad peligroso, cuidado\")\n",
    "else:\n",
    "    print(\"No existe peligro alguno de encontrar un asteroide en estos momentos\")"
   ]
  },
  {
   "cell_type": "markdown",
   "metadata": {},
   "source": [
    "<h3>3.-Problema asteroide - operadores AND/OR </h3>"
   ]
  },
  {
   "cell_type": "code",
   "execution_count": null,
   "metadata": {},
   "outputs": [],
   "source": [
    "# Agrega el código para crear nuevas variables para la velocidad y el tamaño del asteroide\n",
    "# Para probar el código, prueba con varias velocidades y tamaños\n",
    "# Escribe varias expresiones de prueba o combinaciones de expresiones de prueba para determinar qué mensaje se debe enviar a Tierra.\n",
    "# asteroides menores a 25 se queman\n",
    "# asteroides mayores a 25 pero menores a 1000 se impactan\n",
    "# velocidad mayor o igual a 20 produce luz que puede observarse\n",
    "# velocidad mayor a 25 merece advertencia\n",
    "\n",
    "asteroide_velocidad = 25\n",
    "asteroide_tamano = 25\n",
    "\n",
    "if (asteroide_velocidad >= 25 and asteroide_tamano <= 1000):\n",
    "    print(\"¡Peligro! Se ha detectado un asteroide viajando a gran velocidad hacia la Tierra ¡y va explotar!\")\n",
    "elif (asteroide_velocidad >= 20):\n",
    "    print(\"¡Peligro! Se ha detectado un asteroide y se observa una luz a lo lejos\")\n",
    "elif (asteroide_velocidad > 25 and asteroide_tamano > 25):\n",
    "    print(\"¡Peligro! El asteroide podría colisionar con la Tierra\")\n",
    "elif (asteroide_tamano < 25):\n",
    "    print(\"Hay un asteroide viajando, pero de poca advertencia\")\n",
    "else:\n",
    "    print(\"No existe peligro alguno de encontrar un asteroide en estos momentos\")"
   ]
  },
  {
   "cell_type": "markdown",
   "metadata": {},
   "source": [
    "Código presentado por: Francisco Sánchez Vásquez <br>\n",
    "Github: [Zuturito](https://github.com/zuturito/)"
   ]
  }
 ],
 "metadata": {
  "interpreter": {
   "hash": "895d8581c9ec75300b07fc836c132c8c1861e8a5ae62015e3db925413464a955"
  },
  "kernelspec": {
   "display_name": "Python 3.10.2 64-bit",
   "language": "python",
   "name": "python3"
  },
  "language_info": {
   "codemirror_mode": {
    "name": "ipython",
    "version": 3
   },
   "file_extension": ".py",
   "mimetype": "text/x-python",
   "name": "python",
   "nbconvert_exporter": "python",
   "pygments_lexer": "ipython3",
   "version": "3.10.2"
  },
  "orig_nbformat": 4
 },
 "nbformat": 4,
 "nbformat_minor": 2
}
