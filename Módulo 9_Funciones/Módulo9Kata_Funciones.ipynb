{
 "cells": [
  {
   "cell_type": "markdown",
   "metadata": {},
   "source": [
    "<h3>Ejercicio 1 - Trabajar con argumentos en funciones </h3>"
   ]
  },
  {
   "cell_type": "code",
   "execution_count": null,
   "metadata": {},
   "outputs": [],
   "source": [
    "# Función para leer 3 tanques de combustible y muestre el promedio\n",
    "# Llamamos a la función que genera el reporte print(funcion(tanque1, tanque2, tanque3))\n",
    "def imprime_reporte(tanque1, tanque2, tanque3):\n",
    "    print(\"Reporte de tanques:\")\n",
    "    # Función promedio \n",
    "    promedio = (tanque1 + tanque2 + tanque3) / 3\n",
    "    return promedio\n",
    "\n",
    "print(f'El gas aproximado que queda en los tanques es de {imprime_reporte(1,2,3)} %')\n",
    "\n",
    "# Actualiza la función\n",
    "# Función promedio \n",
    "def promedio(args):\n",
    "    total_suma = sum(args)\n",
    "    return total_suma / 3\n",
    "\n",
    "#Actualizar la función original\n",
    "def imprime_reporte_nueva(tanque1, tanque2, tanque3):\n",
    "    return f\"\"\"\n",
    "    -------------------------------\n",
    "    Reporte de tanques:\n",
    "    El porcentaje aproximado de almacén de gas es: {promedio([tanque1, tanque2, tanque3])}%\n",
    "    Tanque1 cuenta con un total de: {tanque1}%\n",
    "    Tanque2 cuenta con un total de: {tanque2}%\n",
    "    Tanque3 cuenta con un total de: {tanque3}% \n",
    "    \"\"\"\n",
    "\n",
    "print(imprime_reporte_nueva(1,2,3))"
   ]
  },
  {
   "cell_type": "markdown",
   "metadata": {},
   "source": [
    "<h3>Ejercicio 2 - Trabajo con argumentos de palabras clave</h3>"
   ]
  },
  {
   "cell_type": "code",
   "execution_count": null,
   "metadata": {},
   "outputs": [],
   "source": [
    "# Función con un informe preciso de la misión. Considera hora de prelanzamiento, tiempo de vuelo, destino, tanque externo y tanque interno\n",
    "def reporte_mision(prelanzamiento, t_vuelo, destino, tank_externo, tank_interno):\n",
    "    return f\"\"\"\n",
    "    Misión destino a: {destino}\n",
    "    Total del viaje: {prelanzamiento + t_vuelo} minutos\n",
    "    Combustible disponible: {tank_externo + tank_interno} litros\n",
    "    \"\"\"\n",
    "print(reporte_mision(35, 23, \"Luna\", 10000, 20000))\n",
    "\n",
    "# Escribe tu nueva función de reporte considerando lo anterior\n",
    "def reporte_mision_new(destino, *minutos, **reserva):\n",
    "    return f\"\"\"\n",
    "    Misión destino a:  {destino}\n",
    "    Total del viaje: {sum(minutos)} minutos\n",
    "    Combustible disponible: {sum(reserva.values())} litros\n",
    "    \"\"\"\n",
    "print(reporte_mision_new(\"Luna\", 35, 23, 45, 78, externo=10000, interno=20000))\n",
    "\n",
    "# Escribe tu nueva función\n",
    "def reporte_mision_new2(destino, *minutos, **reserva):\n",
    "    report = f\"\"\"\n",
    "    Misión destino a: {destino}\n",
    "    Total del viaje: {sum(minutos)} minutos\n",
    "    Combustible disponible: {sum(reserva.values())} litros\n",
    "    Reporte de tanques en la nave:\n",
    "    \"\"\"\n",
    "    for nombre_tanque, litros in reserva.items():\n",
    "        report += f\" - Tanque {nombre_tanque}: {litros} litros disponibles \\n\"\n",
    "    return report\n",
    "print(reporte_mision_new2(\"Luna\", 35, 23, 45, 78, externo=300000, interno=200000))\n"
   ]
  },
  {
   "cell_type": "markdown",
   "metadata": {},
   "source": [
    "Código presentado por: Francisco Sánchez Vásquez <br>\n",
    "Github: [Zuturito](https://github.com/zuturito/)"
   ]
  }
 ],
 "metadata": {
  "interpreter": {
   "hash": "895d8581c9ec75300b07fc836c132c8c1861e8a5ae62015e3db925413464a955"
  },
  "kernelspec": {
   "display_name": "Python 3.10.2 64-bit",
   "language": "python",
   "name": "python3"
  },
  "language_info": {
   "codemirror_mode": {
    "name": "ipython",
    "version": 3
   },
   "file_extension": ".py",
   "mimetype": "text/x-python",
   "name": "python",
   "nbconvert_exporter": "python",
   "pygments_lexer": "ipython3",
   "version": "3.10.2"
  },
  "orig_nbformat": 4
 },
 "nbformat": 4,
 "nbformat_minor": 2
}
